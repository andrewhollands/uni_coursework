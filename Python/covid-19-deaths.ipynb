{
 "cells": [
  {
   "cell_type": "markdown",
   "id": "2ae2dcf5",
   "metadata": {
    "papermill": {
     "duration": 0.023899,
     "end_time": "2021-10-11T03:42:51.658365",
     "exception": false,
     "start_time": "2021-10-11T03:42:51.634466",
     "status": "completed"
    },
    "tags": []
   },
   "source": [
    "# Importing all necessary packages"
   ]
  },
  {
   "cell_type": "code",
   "execution_count": 1,
   "id": "2738a158",
   "metadata": {
    "execution": {
     "iopub.execute_input": "2021-10-11T03:42:51.714981Z",
     "iopub.status.busy": "2021-10-11T03:42:51.714332Z",
     "iopub.status.idle": "2021-10-11T03:42:52.784984Z",
     "shell.execute_reply": "2021-10-11T03:42:52.785744Z",
     "shell.execute_reply.started": "2021-10-11T03:41:20.179134Z"
    },
    "papermill": {
     "duration": 1.104302,
     "end_time": "2021-10-11T03:42:52.786145",
     "exception": false,
     "start_time": "2021-10-11T03:42:51.681843",
     "status": "completed"
    },
    "tags": []
   },
   "outputs": [
    {
     "name": "stdout",
     "output_type": "stream",
     "text": [
      "/kaggle/input/cap-4611-2021-fall-assignment-1/sample_submission.csv\n",
      "/kaggle/input/cap-4611-2021-fall-assignment-1/train.csv\n",
      "/kaggle/input/cap-4611-2021-fall-assignment-1/test.csv\n"
     ]
    }
   ],
   "source": [
    "import numpy as np # linear algebra\n",
    "import pandas as pd # data processing, CSV file I/O (e.g. pd.read_csv)\n",
    "import seaborn as sns\n",
    "from matplotlib import pyplot as plt\n",
    "from sklearn.model_selection import train_test_split\n",
    "from sklearn import metrics\n",
    "from sklearn.metrics import r2_score\n",
    "from sklearn.linear_model import LinearRegression, Ridge, Lasso, ElasticNet\n",
    "\n",
    "# Input data files are available in the read-only \"../input/\" directory\n",
    "# For example, running this (by clicking run or pressing Shift+Enter) will list all files under the input directory\n",
    "\n",
    "import os\n",
    "for dirname, _, filenames in os.walk('/kaggle/input'):\n",
    "    for filename in filenames:\n",
    "        print(os.path.join(dirname, filename))"
   ]
  },
  {
   "cell_type": "markdown",
   "id": "811950cf",
   "metadata": {
    "papermill": {
     "duration": 0.022318,
     "end_time": "2021-10-11T03:42:52.833161",
     "exception": false,
     "start_time": "2021-10-11T03:42:52.810843",
     "status": "completed"
    },
    "tags": []
   },
   "source": [
    "# Reading data"
   ]
  },
  {
   "cell_type": "code",
   "execution_count": 2,
   "id": "f52f474c",
   "metadata": {
    "execution": {
     "iopub.execute_input": "2021-10-11T03:42:52.884022Z",
     "iopub.status.busy": "2021-10-11T03:42:52.883203Z",
     "iopub.status.idle": "2021-10-11T03:42:53.195106Z",
     "shell.execute_reply": "2021-10-11T03:42:53.194473Z",
     "shell.execute_reply.started": "2021-10-11T03:41:20.192632Z"
    },
    "papermill": {
     "duration": 0.339097,
     "end_time": "2021-10-11T03:42:53.195250",
     "exception": false,
     "start_time": "2021-10-11T03:42:52.856153",
     "status": "completed"
    },
    "tags": []
   },
   "outputs": [],
   "source": [
    "df = pd.read_csv('/kaggle/input/cap-4611-2021-fall-assignment-1/train.csv', low_memory=False) # Training Data\n",
    "test_df = pd.read_csv('/kaggle/input/cap-4611-2021-fall-assignment-1/test.csv') # Testing Data"
   ]
  },
  {
   "cell_type": "markdown",
   "id": "c0f7f1af",
   "metadata": {
    "papermill": {
     "duration": 0.022483,
     "end_time": "2021-10-11T03:42:53.240735",
     "exception": false,
     "start_time": "2021-10-11T03:42:53.218252",
     "status": "completed"
    },
    "tags": []
   },
   "source": [
    "# Viewing and cleaning imported training and testing data (EDA)"
   ]
  },
  {
   "cell_type": "markdown",
   "id": "065ce2d4",
   "metadata": {
    "papermill": {
     "duration": 0.022465,
     "end_time": "2021-10-11T03:42:53.286211",
     "exception": false,
     "start_time": "2021-10-11T03:42:53.263746",
     "status": "completed"
    },
    "tags": []
   },
   "source": [
    "Before we begin filling null values, we should assess each column visually to determine whether or not it is significant, or duplicate information. So, we will take a closer look at the below DataFrame head."
   ]
  },
  {
   "cell_type": "code",
   "execution_count": 3,
   "id": "b855cfb7",
   "metadata": {
    "execution": {
     "iopub.execute_input": "2021-10-11T03:42:53.340902Z",
     "iopub.status.busy": "2021-10-11T03:42:53.340276Z",
     "iopub.status.idle": "2021-10-11T03:42:53.361032Z",
     "shell.execute_reply": "2021-10-11T03:42:53.360457Z",
     "shell.execute_reply.started": "2021-10-11T03:41:20.391462Z"
    },
    "papermill": {
     "duration": 0.051836,
     "end_time": "2021-10-11T03:42:53.361181",
     "exception": false,
     "start_time": "2021-10-11T03:42:53.309345",
     "status": "completed"
    },
    "tags": []
   },
   "outputs": [
    {
     "data": {
      "text/html": [
       "<div>\n",
       "<style scoped>\n",
       "    .dataframe tbody tr th:only-of-type {\n",
       "        vertical-align: middle;\n",
       "    }\n",
       "\n",
       "    .dataframe tbody tr th {\n",
       "        vertical-align: top;\n",
       "    }\n",
       "\n",
       "    .dataframe thead th {\n",
       "        text-align: right;\n",
       "    }\n",
       "</style>\n",
       "<table border=\"1\" class=\"dataframe\">\n",
       "  <thead>\n",
       "    <tr style=\"text-align: right;\">\n",
       "      <th></th>\n",
       "      <th>id</th>\n",
       "      <th>Data As Of</th>\n",
       "      <th>Start Date</th>\n",
       "      <th>End Date</th>\n",
       "      <th>Group</th>\n",
       "      <th>Year</th>\n",
       "      <th>Month</th>\n",
       "      <th>MMWR Week</th>\n",
       "      <th>Week-Ending Date</th>\n",
       "      <th>HHS Region</th>\n",
       "      <th>Race and Hispanic Origin Group</th>\n",
       "      <th>Age Group</th>\n",
       "      <th>COVID-19 Deaths</th>\n",
       "      <th>Total Deaths</th>\n",
       "      <th>Footnote</th>\n",
       "    </tr>\n",
       "  </thead>\n",
       "  <tbody>\n",
       "    <tr>\n",
       "      <th>0</th>\n",
       "      <td>0</td>\n",
       "      <td>09/22/2021</td>\n",
       "      <td>12/29/2019</td>\n",
       "      <td>2020-01-04</td>\n",
       "      <td>By Week</td>\n",
       "      <td>2019/2020</td>\n",
       "      <td>NaN</td>\n",
       "      <td>1.0</td>\n",
       "      <td>01/04/2020</td>\n",
       "      <td>United States</td>\n",
       "      <td>Hispanic</td>\n",
       "      <td>0-4 years</td>\n",
       "      <td>0.0</td>\n",
       "      <td>104.0</td>\n",
       "      <td>NaN</td>\n",
       "    </tr>\n",
       "    <tr>\n",
       "      <th>1</th>\n",
       "      <td>1</td>\n",
       "      <td>09/22/2021</td>\n",
       "      <td>12/29/2019</td>\n",
       "      <td>2020-01-04</td>\n",
       "      <td>By Week</td>\n",
       "      <td>2019/2020</td>\n",
       "      <td>NaN</td>\n",
       "      <td>1.0</td>\n",
       "      <td>01/04/2020</td>\n",
       "      <td>United States</td>\n",
       "      <td>Hispanic</td>\n",
       "      <td>5-17 years</td>\n",
       "      <td>0.0</td>\n",
       "      <td>41.0</td>\n",
       "      <td>NaN</td>\n",
       "    </tr>\n",
       "    <tr>\n",
       "      <th>2</th>\n",
       "      <td>2</td>\n",
       "      <td>09/22/2021</td>\n",
       "      <td>12/29/2019</td>\n",
       "      <td>2020-01-04</td>\n",
       "      <td>By Week</td>\n",
       "      <td>2019/2020</td>\n",
       "      <td>NaN</td>\n",
       "      <td>1.0</td>\n",
       "      <td>01/04/2020</td>\n",
       "      <td>United States</td>\n",
       "      <td>Hispanic</td>\n",
       "      <td>18-29 years</td>\n",
       "      <td>0.0</td>\n",
       "      <td>190.0</td>\n",
       "      <td>NaN</td>\n",
       "    </tr>\n",
       "    <tr>\n",
       "      <th>3</th>\n",
       "      <td>3</td>\n",
       "      <td>09/22/2021</td>\n",
       "      <td>12/29/2019</td>\n",
       "      <td>2020-01-04</td>\n",
       "      <td>By Week</td>\n",
       "      <td>2019/2020</td>\n",
       "      <td>NaN</td>\n",
       "      <td>1.0</td>\n",
       "      <td>01/04/2020</td>\n",
       "      <td>United States</td>\n",
       "      <td>Hispanic</td>\n",
       "      <td>30-39 years</td>\n",
       "      <td>0.0</td>\n",
       "      <td>237.0</td>\n",
       "      <td>NaN</td>\n",
       "    </tr>\n",
       "    <tr>\n",
       "      <th>4</th>\n",
       "      <td>4</td>\n",
       "      <td>09/22/2021</td>\n",
       "      <td>12/29/2019</td>\n",
       "      <td>2020-01-04</td>\n",
       "      <td>By Week</td>\n",
       "      <td>2019/2020</td>\n",
       "      <td>NaN</td>\n",
       "      <td>1.0</td>\n",
       "      <td>01/04/2020</td>\n",
       "      <td>United States</td>\n",
       "      <td>Hispanic</td>\n",
       "      <td>40-49 years</td>\n",
       "      <td>0.0</td>\n",
       "      <td>325.0</td>\n",
       "      <td>NaN</td>\n",
       "    </tr>\n",
       "  </tbody>\n",
       "</table>\n",
       "</div>"
      ],
      "text/plain": [
       "   id  Data As Of  Start Date    End Date    Group       Year  Month  \\\n",
       "0   0  09/22/2021  12/29/2019  2020-01-04  By Week  2019/2020    NaN   \n",
       "1   1  09/22/2021  12/29/2019  2020-01-04  By Week  2019/2020    NaN   \n",
       "2   2  09/22/2021  12/29/2019  2020-01-04  By Week  2019/2020    NaN   \n",
       "3   3  09/22/2021  12/29/2019  2020-01-04  By Week  2019/2020    NaN   \n",
       "4   4  09/22/2021  12/29/2019  2020-01-04  By Week  2019/2020    NaN   \n",
       "\n",
       "   MMWR Week Week-Ending Date     HHS Region Race and Hispanic Origin Group  \\\n",
       "0        1.0       01/04/2020  United States                       Hispanic   \n",
       "1        1.0       01/04/2020  United States                       Hispanic   \n",
       "2        1.0       01/04/2020  United States                       Hispanic   \n",
       "3        1.0       01/04/2020  United States                       Hispanic   \n",
       "4        1.0       01/04/2020  United States                       Hispanic   \n",
       "\n",
       "     Age Group  COVID-19 Deaths  Total Deaths Footnote  \n",
       "0    0-4 years              0.0         104.0      NaN  \n",
       "1   5-17 years              0.0          41.0      NaN  \n",
       "2  18-29 years              0.0         190.0      NaN  \n",
       "3  30-39 years              0.0         237.0      NaN  \n",
       "4  40-49 years              0.0         325.0      NaN  "
      ]
     },
     "execution_count": 3,
     "metadata": {},
     "output_type": "execute_result"
    }
   ],
   "source": [
    "df.head() # Viewing first 5 rows of training data"
   ]
  },
  {
   "cell_type": "markdown",
   "id": "f33409d3",
   "metadata": {
    "papermill": {
     "duration": 0.023084,
     "end_time": "2021-10-11T03:42:53.407575",
     "exception": false,
     "start_time": "2021-10-11T03:42:53.384491",
     "status": "completed"
    },
    "tags": []
   },
   "source": [
    "We will remove the following columns right off the bat as they are purely redundant:\n",
    "* 'id,' 'Data As Of,' 'Group' as the row index column contains the same information\n",
    "* 'End Date,' 'Year,' and 'Week-Ending Date' as is directly correlates to 'Start Date,' which doesn't give us any valuable insight\n",
    "* 'HHS Region' is irrelevant as we are not concerned with regional deaths but deaths in the US as a whole\n",
    "* 'Total Deaths' is also irrelevant as we are only concerned with 'COVID-19 Deaths'\n",
    "* 'Footnote' is largely blank and is extraneous information"
   ]
  },
  {
   "cell_type": "code",
   "execution_count": 4,
   "id": "278bd96c",
   "metadata": {
    "execution": {
     "iopub.execute_input": "2021-10-11T03:42:53.463312Z",
     "iopub.status.busy": "2021-10-11T03:42:53.462670Z",
     "iopub.status.idle": "2021-10-11T03:42:53.475438Z",
     "shell.execute_reply": "2021-10-11T03:42:53.476017Z",
     "shell.execute_reply.started": "2021-10-11T03:41:20.413370Z"
    },
    "papermill": {
     "duration": 0.045071,
     "end_time": "2021-10-11T03:42:53.476187",
     "exception": false,
     "start_time": "2021-10-11T03:42:53.431116",
     "status": "completed"
    },
    "tags": []
   },
   "outputs": [
    {
     "data": {
      "text/html": [
       "<div>\n",
       "<style scoped>\n",
       "    .dataframe tbody tr th:only-of-type {\n",
       "        vertical-align: middle;\n",
       "    }\n",
       "\n",
       "    .dataframe tbody tr th {\n",
       "        vertical-align: top;\n",
       "    }\n",
       "\n",
       "    .dataframe thead th {\n",
       "        text-align: right;\n",
       "    }\n",
       "</style>\n",
       "<table border=\"1\" class=\"dataframe\">\n",
       "  <thead>\n",
       "    <tr style=\"text-align: right;\">\n",
       "      <th></th>\n",
       "      <th>Start Date</th>\n",
       "      <th>Month</th>\n",
       "      <th>MMWR Week</th>\n",
       "      <th>Race and Hispanic Origin Group</th>\n",
       "      <th>Age Group</th>\n",
       "      <th>COVID-19 Deaths</th>\n",
       "    </tr>\n",
       "  </thead>\n",
       "  <tbody>\n",
       "    <tr>\n",
       "      <th>0</th>\n",
       "      <td>12/29/2019</td>\n",
       "      <td>NaN</td>\n",
       "      <td>1.0</td>\n",
       "      <td>Hispanic</td>\n",
       "      <td>0-4 years</td>\n",
       "      <td>0.0</td>\n",
       "    </tr>\n",
       "    <tr>\n",
       "      <th>1</th>\n",
       "      <td>12/29/2019</td>\n",
       "      <td>NaN</td>\n",
       "      <td>1.0</td>\n",
       "      <td>Hispanic</td>\n",
       "      <td>5-17 years</td>\n",
       "      <td>0.0</td>\n",
       "    </tr>\n",
       "    <tr>\n",
       "      <th>2</th>\n",
       "      <td>12/29/2019</td>\n",
       "      <td>NaN</td>\n",
       "      <td>1.0</td>\n",
       "      <td>Hispanic</td>\n",
       "      <td>18-29 years</td>\n",
       "      <td>0.0</td>\n",
       "    </tr>\n",
       "    <tr>\n",
       "      <th>3</th>\n",
       "      <td>12/29/2019</td>\n",
       "      <td>NaN</td>\n",
       "      <td>1.0</td>\n",
       "      <td>Hispanic</td>\n",
       "      <td>30-39 years</td>\n",
       "      <td>0.0</td>\n",
       "    </tr>\n",
       "    <tr>\n",
       "      <th>4</th>\n",
       "      <td>12/29/2019</td>\n",
       "      <td>NaN</td>\n",
       "      <td>1.0</td>\n",
       "      <td>Hispanic</td>\n",
       "      <td>40-49 years</td>\n",
       "      <td>0.0</td>\n",
       "    </tr>\n",
       "  </tbody>\n",
       "</table>\n",
       "</div>"
      ],
      "text/plain": [
       "   Start Date  Month  MMWR Week Race and Hispanic Origin Group    Age Group  \\\n",
       "0  12/29/2019    NaN        1.0                       Hispanic    0-4 years   \n",
       "1  12/29/2019    NaN        1.0                       Hispanic   5-17 years   \n",
       "2  12/29/2019    NaN        1.0                       Hispanic  18-29 years   \n",
       "3  12/29/2019    NaN        1.0                       Hispanic  30-39 years   \n",
       "4  12/29/2019    NaN        1.0                       Hispanic  40-49 years   \n",
       "\n",
       "   COVID-19 Deaths  \n",
       "0              0.0  \n",
       "1              0.0  \n",
       "2              0.0  \n",
       "3              0.0  \n",
       "4              0.0  "
      ]
     },
     "execution_count": 4,
     "metadata": {},
     "output_type": "execute_result"
    }
   ],
   "source": [
    "df = df.drop(['id', 'Data As Of', 'End Date', 'Group', 'Year', 'Week-Ending Date', 'HHS Region', 'Total Deaths', 'Footnote'], axis=1) # Dropping all unnecessary data\n",
    "df.head() # Viewing first 5 rows of cleaned data"
   ]
  },
  {
   "cell_type": "markdown",
   "id": "db4e7b09",
   "metadata": {
    "papermill": {
     "duration": 0.023524,
     "end_time": "2021-10-11T03:42:53.523276",
     "exception": false,
     "start_time": "2021-10-11T03:42:53.499752",
     "status": "completed"
    },
    "tags": []
   },
   "source": [
    "# Feature Engineering (and more EDA)\n",
    "We will engineer a new feature to more easily work with the date of each death--a 'month' column. "
   ]
  },
  {
   "cell_type": "code",
   "execution_count": 5,
   "id": "27e0e6fa",
   "metadata": {
    "execution": {
     "iopub.execute_input": "2021-10-11T03:42:53.573526Z",
     "iopub.status.busy": "2021-10-11T03:42:53.572953Z",
     "iopub.status.idle": "2021-10-11T03:42:53.637203Z",
     "shell.execute_reply": "2021-10-11T03:42:53.637691Z",
     "shell.execute_reply.started": "2021-10-11T03:41:20.436119Z"
    },
    "papermill": {
     "duration": 0.090889,
     "end_time": "2021-10-11T03:42:53.637851",
     "exception": false,
     "start_time": "2021-10-11T03:42:53.546962",
     "status": "completed"
    },
    "tags": []
   },
   "outputs": [
    {
     "data": {
      "text/html": [
       "<div>\n",
       "<style scoped>\n",
       "    .dataframe tbody tr th:only-of-type {\n",
       "        vertical-align: middle;\n",
       "    }\n",
       "\n",
       "    .dataframe tbody tr th {\n",
       "        vertical-align: top;\n",
       "    }\n",
       "\n",
       "    .dataframe thead th {\n",
       "        text-align: right;\n",
       "    }\n",
       "</style>\n",
       "<table border=\"1\" class=\"dataframe\">\n",
       "  <thead>\n",
       "    <tr style=\"text-align: right;\">\n",
       "      <th></th>\n",
       "      <th>Start Date</th>\n",
       "      <th>Month</th>\n",
       "      <th>MMWR Week</th>\n",
       "      <th>Race and Hispanic Origin Group</th>\n",
       "      <th>Age Group</th>\n",
       "      <th>COVID-19 Deaths</th>\n",
       "    </tr>\n",
       "  </thead>\n",
       "  <tbody>\n",
       "    <tr>\n",
       "      <th>0</th>\n",
       "      <td>12/29/2019</td>\n",
       "      <td>12</td>\n",
       "      <td>1.0</td>\n",
       "      <td>Hispanic</td>\n",
       "      <td>0-4 years</td>\n",
       "      <td>0.0</td>\n",
       "    </tr>\n",
       "    <tr>\n",
       "      <th>1</th>\n",
       "      <td>12/29/2019</td>\n",
       "      <td>12</td>\n",
       "      <td>1.0</td>\n",
       "      <td>Hispanic</td>\n",
       "      <td>5-17 years</td>\n",
       "      <td>0.0</td>\n",
       "    </tr>\n",
       "    <tr>\n",
       "      <th>2</th>\n",
       "      <td>12/29/2019</td>\n",
       "      <td>12</td>\n",
       "      <td>1.0</td>\n",
       "      <td>Hispanic</td>\n",
       "      <td>18-29 years</td>\n",
       "      <td>0.0</td>\n",
       "    </tr>\n",
       "    <tr>\n",
       "      <th>3</th>\n",
       "      <td>12/29/2019</td>\n",
       "      <td>12</td>\n",
       "      <td>1.0</td>\n",
       "      <td>Hispanic</td>\n",
       "      <td>30-39 years</td>\n",
       "      <td>0.0</td>\n",
       "    </tr>\n",
       "    <tr>\n",
       "      <th>4</th>\n",
       "      <td>12/29/2019</td>\n",
       "      <td>12</td>\n",
       "      <td>1.0</td>\n",
       "      <td>Hispanic</td>\n",
       "      <td>40-49 years</td>\n",
       "      <td>0.0</td>\n",
       "    </tr>\n",
       "  </tbody>\n",
       "</table>\n",
       "</div>"
      ],
      "text/plain": [
       "   Start Date  Month  MMWR Week Race and Hispanic Origin Group    Age Group  \\\n",
       "0  12/29/2019     12        1.0                       Hispanic    0-4 years   \n",
       "1  12/29/2019     12        1.0                       Hispanic   5-17 years   \n",
       "2  12/29/2019     12        1.0                       Hispanic  18-29 years   \n",
       "3  12/29/2019     12        1.0                       Hispanic  30-39 years   \n",
       "4  12/29/2019     12        1.0                       Hispanic  40-49 years   \n",
       "\n",
       "   COVID-19 Deaths  \n",
       "0              0.0  \n",
       "1              0.0  \n",
       "2              0.0  \n",
       "3              0.0  \n",
       "4              0.0  "
      ]
     },
     "execution_count": 5,
     "metadata": {},
     "output_type": "execute_result"
    }
   ],
   "source": [
    "df['Month'] = pd.DatetimeIndex(df['Start Date']).month # Generating new functional column to better represent 'Start Date' data\n",
    "df.head() # Viewing first 5 rows of with newly engineered data"
   ]
  },
  {
   "cell_type": "markdown",
   "id": "ab6b7b53",
   "metadata": {
    "papermill": {
     "duration": 0.023667,
     "end_time": "2021-10-11T03:42:53.685524",
     "exception": false,
     "start_time": "2021-10-11T03:42:53.661857",
     "status": "completed"
    },
    "tags": []
   },
   "source": [
    "Now that we have only the features we are interested in, we will check for missing values."
   ]
  },
  {
   "cell_type": "code",
   "execution_count": 6,
   "id": "aeac2842",
   "metadata": {
    "execution": {
     "iopub.execute_input": "2021-10-11T03:42:53.735815Z",
     "iopub.status.busy": "2021-10-11T03:42:53.735274Z",
     "iopub.status.idle": "2021-10-11T03:42:53.752831Z",
     "shell.execute_reply": "2021-10-11T03:42:53.753345Z",
     "shell.execute_reply.started": "2021-10-11T03:41:20.504750Z"
    },
    "papermill": {
     "duration": 0.044239,
     "end_time": "2021-10-11T03:42:53.753508",
     "exception": false,
     "start_time": "2021-10-11T03:42:53.709269",
     "status": "completed"
    },
    "tags": []
   },
   "outputs": [
    {
     "data": {
      "text/plain": [
       "Start Date                            0\n",
       "Month                                 0\n",
       "MMWR Week                         14256\n",
       "Race and Hispanic Origin Group        0\n",
       "Age Group                             0\n",
       "COVID-19 Deaths                   14926\n",
       "dtype: int64"
      ]
     },
     "execution_count": 6,
     "metadata": {},
     "output_type": "execute_result"
    }
   ],
   "source": [
    "df.isnull().sum() # Checking which columns have null values"
   ]
  },
  {
   "cell_type": "markdown",
   "id": "8b2dea55",
   "metadata": {
    "papermill": {
     "duration": 0.024054,
     "end_time": "2021-10-11T03:42:53.802251",
     "exception": false,
     "start_time": "2021-10-11T03:42:53.778197",
     "status": "completed"
    },
    "tags": []
   },
   "source": [
    "In order to choose a reasonable method for imputing missing values, we will count how many rows we have in our DataFrame. "
   ]
  },
  {
   "cell_type": "code",
   "execution_count": 7,
   "id": "b841931d",
   "metadata": {
    "execution": {
     "iopub.execute_input": "2021-10-11T03:42:53.853848Z",
     "iopub.status.busy": "2021-10-11T03:42:53.853278Z",
     "iopub.status.idle": "2021-10-11T03:42:53.857427Z",
     "shell.execute_reply": "2021-10-11T03:42:53.857931Z",
     "shell.execute_reply.started": "2021-10-11T03:41:20.530808Z"
    },
    "papermill": {
     "duration": 0.031443,
     "end_time": "2021-10-11T03:42:53.858098",
     "exception": false,
     "start_time": "2021-10-11T03:42:53.826655",
     "status": "completed"
    },
    "tags": []
   },
   "outputs": [
    {
     "data": {
      "text/plain": [
       "(72864, 6)"
      ]
     },
     "execution_count": 7,
     "metadata": {},
     "output_type": "execute_result"
    }
   ],
   "source": [
    "df.shape "
   ]
  },
  {
   "cell_type": "markdown",
   "id": "a50dbc3d",
   "metadata": {
    "papermill": {
     "duration": 0.024406,
     "end_time": "2021-10-11T03:42:53.907254",
     "exception": false,
     "start_time": "2021-10-11T03:42:53.882848",
     "status": "completed"
    },
    "tags": []
   },
   "source": [
    "We will also observe basic statistics of our data."
   ]
  },
  {
   "cell_type": "code",
   "execution_count": 8,
   "id": "e1377e63",
   "metadata": {
    "execution": {
     "iopub.execute_input": "2021-10-11T03:42:53.968077Z",
     "iopub.status.busy": "2021-10-11T03:42:53.967355Z",
     "iopub.status.idle": "2021-10-11T03:42:53.997888Z",
     "shell.execute_reply": "2021-10-11T03:42:53.998595Z",
     "shell.execute_reply.started": "2021-10-11T03:41:20.538386Z"
    },
    "papermill": {
     "duration": 0.066953,
     "end_time": "2021-10-11T03:42:53.998862",
     "exception": false,
     "start_time": "2021-10-11T03:42:53.931909",
     "status": "completed"
    },
    "tags": []
   },
   "outputs": [
    {
     "data": {
      "text/html": [
       "<div>\n",
       "<style scoped>\n",
       "    .dataframe tbody tr th:only-of-type {\n",
       "        vertical-align: middle;\n",
       "    }\n",
       "\n",
       "    .dataframe tbody tr th {\n",
       "        vertical-align: top;\n",
       "    }\n",
       "\n",
       "    .dataframe thead th {\n",
       "        text-align: right;\n",
       "    }\n",
       "</style>\n",
       "<table border=\"1\" class=\"dataframe\">\n",
       "  <thead>\n",
       "    <tr style=\"text-align: right;\">\n",
       "      <th></th>\n",
       "      <th>Month</th>\n",
       "      <th>MMWR Week</th>\n",
       "      <th>COVID-19 Deaths</th>\n",
       "    </tr>\n",
       "  </thead>\n",
       "  <tbody>\n",
       "    <tr>\n",
       "      <th>count</th>\n",
       "      <td>72864.000000</td>\n",
       "      <td>58608.000000</td>\n",
       "      <td>57938.000000</td>\n",
       "    </tr>\n",
       "    <tr>\n",
       "      <th>mean</th>\n",
       "      <td>5.500000</td>\n",
       "      <td>22.459459</td>\n",
       "      <td>53.730626</td>\n",
       "    </tr>\n",
       "    <tr>\n",
       "      <th>std</th>\n",
       "      <td>3.468829</td>\n",
       "      <td>15.166940</td>\n",
       "      <td>682.752171</td>\n",
       "    </tr>\n",
       "    <tr>\n",
       "      <th>min</th>\n",
       "      <td>1.000000</td>\n",
       "      <td>1.000000</td>\n",
       "      <td>0.000000</td>\n",
       "    </tr>\n",
       "    <tr>\n",
       "      <th>25%</th>\n",
       "      <td>3.000000</td>\n",
       "      <td>10.000000</td>\n",
       "      <td>0.000000</td>\n",
       "    </tr>\n",
       "    <tr>\n",
       "      <th>50%</th>\n",
       "      <td>5.000000</td>\n",
       "      <td>19.000000</td>\n",
       "      <td>0.000000</td>\n",
       "    </tr>\n",
       "    <tr>\n",
       "      <th>75%</th>\n",
       "      <td>8.000000</td>\n",
       "      <td>35.000000</td>\n",
       "      <td>0.000000</td>\n",
       "    </tr>\n",
       "    <tr>\n",
       "      <th>max</th>\n",
       "      <td>12.000000</td>\n",
       "      <td>53.000000</td>\n",
       "      <td>94129.000000</td>\n",
       "    </tr>\n",
       "  </tbody>\n",
       "</table>\n",
       "</div>"
      ],
      "text/plain": [
       "              Month     MMWR Week  COVID-19 Deaths\n",
       "count  72864.000000  58608.000000     57938.000000\n",
       "mean       5.500000     22.459459        53.730626\n",
       "std        3.468829     15.166940       682.752171\n",
       "min        1.000000      1.000000         0.000000\n",
       "25%        3.000000     10.000000         0.000000\n",
       "50%        5.000000     19.000000         0.000000\n",
       "75%        8.000000     35.000000         0.000000\n",
       "max       12.000000     53.000000     94129.000000"
      ]
     },
     "execution_count": 8,
     "metadata": {},
     "output_type": "execute_result"
    }
   ],
   "source": [
    "df.describe()"
   ]
  },
  {
   "cell_type": "markdown",
   "id": "6c541e81",
   "metadata": {
    "papermill": {
     "duration": 0.031149,
     "end_time": "2021-10-11T03:42:54.068971",
     "exception": false,
     "start_time": "2021-10-11T03:42:54.037822",
     "status": "completed"
    },
    "tags": []
   },
   "source": [
    "We will also observe correlational values and plot them."
   ]
  },
  {
   "cell_type": "code",
   "execution_count": 9,
   "id": "946876de",
   "metadata": {
    "execution": {
     "iopub.execute_input": "2021-10-11T03:42:54.121784Z",
     "iopub.status.busy": "2021-10-11T03:42:54.121207Z",
     "iopub.status.idle": "2021-10-11T03:42:54.429752Z",
     "shell.execute_reply": "2021-10-11T03:42:54.430191Z",
     "shell.execute_reply.started": "2021-10-11T03:41:20.572920Z"
    },
    "papermill": {
     "duration": 0.336535,
     "end_time": "2021-10-11T03:42:54.430384",
     "exception": false,
     "start_time": "2021-10-11T03:42:54.093849",
     "status": "completed"
    },
    "tags": []
   },
   "outputs": [
    {
     "name": "stdout",
     "output_type": "stream",
     "text": [
      "                    Month  MMWR Week  COVID-19 Deaths\n",
      "Month            1.000000   0.923204        -0.011360\n",
      "MMWR Week        0.923204   1.000000         0.040434\n",
      "COVID-19 Deaths -0.011360   0.040434         1.000000\n"
     ]
    },
    {
     "data": {
      "text/plain": [
       "<AxesSubplot:>"
      ]
     },
     "execution_count": 9,
     "metadata": {},
     "output_type": "execute_result"
    },
    {
     "data": {
      "image/png": "[encoded data removed]",
      "text/plain": [
       "<Figure size 432x288 with 2 Axes>"
      ]
     },
     "metadata": {
      "needs_background": "light"
     },
     "output_type": "display_data"
    }
   ],
   "source": [
    "print(df.corr())\n",
    "sns.heatmap(df.corr(), annot=True, linewidths=.7, cmap='coolwarm')"
   ]
  },
  {
   "cell_type": "markdown",
   "id": "3a2b4a41",
   "metadata": {
    "papermill": {
     "duration": 0.02613,
     "end_time": "2021-10-11T03:42:54.482827",
     "exception": false,
     "start_time": "2021-10-11T03:42:54.456697",
     "status": "completed"
    },
    "tags": []
   },
   "source": [
    "According to the above heatmap, it is apparent that there is a strong correlation between MMWR week and COVID-19 deaths. "
   ]
  },
  {
   "cell_type": "code",
   "execution_count": 10,
   "id": "be40b0ee",
   "metadata": {
    "execution": {
     "iopub.execute_input": "2021-10-11T03:42:54.550020Z",
     "iopub.status.busy": "2021-10-11T03:42:54.549410Z",
     "iopub.status.idle": "2021-10-11T03:42:54.560957Z",
     "shell.execute_reply": "2021-10-11T03:42:54.561489Z",
     "shell.execute_reply.started": "2021-10-11T03:41:20.847964Z"
    },
    "papermill": {
     "duration": 0.052727,
     "end_time": "2021-10-11T03:42:54.561662",
     "exception": false,
     "start_time": "2021-10-11T03:42:54.508935",
     "status": "completed"
    },
    "tags": []
   },
   "outputs": [
    {
     "name": "stdout",
     "output_type": "stream",
     "text": [
      "<class 'pandas.core.frame.DataFrame'>\n",
      "RangeIndex: 72864 entries, 0 to 72863\n",
      "Data columns (total 6 columns):\n",
      " #   Column                          Non-Null Count  Dtype  \n",
      "---  ------                          --------------  -----  \n",
      " 0   Start Date                      72864 non-null  object \n",
      " 1   Month                           72864 non-null  int64  \n",
      " 2   MMWR Week                       58608 non-null  float64\n",
      " 3   Race and Hispanic Origin Group  72864 non-null  object \n",
      " 4   Age Group                       72864 non-null  object \n",
      " 5   COVID-19 Deaths                 57938 non-null  float64\n",
      "dtypes: float64(2), int64(1), object(3)\n",
      "memory usage: 3.3+ MB\n"
     ]
    }
   ],
   "source": [
    "df.info()"
   ]
  },
  {
   "cell_type": "markdown",
   "id": "ce8af586",
   "metadata": {
    "papermill": {
     "duration": 0.026239,
     "end_time": "2021-10-11T03:42:54.614378",
     "exception": false,
     "start_time": "2021-10-11T03:42:54.588139",
     "status": "completed"
    },
    "tags": []
   },
   "source": [
    "As there is missing values found in only the 'MMWR Week' and 'COVID-19 Deaths' columns, we will fill each missing value with its column's respective mean value. "
   ]
  },
  {
   "cell_type": "code",
   "execution_count": 11,
   "id": "ca54f772",
   "metadata": {
    "execution": {
     "iopub.execute_input": "2021-10-11T03:42:54.670655Z",
     "iopub.status.busy": "2021-10-11T03:42:54.670061Z",
     "iopub.status.idle": "2021-10-11T03:42:54.691399Z",
     "shell.execute_reply": "2021-10-11T03:42:54.691945Z",
     "shell.execute_reply.started": "2021-10-11T03:41:20.877507Z"
    },
    "papermill": {
     "duration": 0.051209,
     "end_time": "2021-10-11T03:42:54.692109",
     "exception": false,
     "start_time": "2021-10-11T03:42:54.640900",
     "status": "completed"
    },
    "tags": []
   },
   "outputs": [
    {
     "data": {
      "text/plain": [
       "Start Date                        0\n",
       "Month                             0\n",
       "MMWR Week                         0\n",
       "Race and Hispanic Origin Group    0\n",
       "Age Group                         0\n",
       "COVID-19 Deaths                   0\n",
       "dtype: int64"
      ]
     },
     "execution_count": 11,
     "metadata": {},
     "output_type": "execute_result"
    }
   ],
   "source": [
    "values = {'MMWR Week': np.mean(df['MMWR Week']), 'COVID-19 Deaths': np.mean(df['COVID-19 Deaths'])}\n",
    "df = df.fillna(value=values)\n",
    "df.isnull().sum() # Ensuring all null values have been replaced"
   ]
  },
  {
   "cell_type": "code",
   "execution_count": 12,
   "id": "bc46c80e",
   "metadata": {
    "execution": {
     "iopub.execute_input": "2021-10-11T03:42:54.748298Z",
     "iopub.status.busy": "2021-10-11T03:42:54.747709Z",
     "iopub.status.idle": "2021-10-11T03:42:55.606683Z",
     "shell.execute_reply": "2021-10-11T03:42:55.607175Z",
     "shell.execute_reply.started": "2021-10-11T03:41:20.904617Z"
    },
    "papermill": {
     "duration": 0.888847,
     "end_time": "2021-10-11T03:42:55.607343",
     "exception": false,
     "start_time": "2021-10-11T03:42:54.718496",
     "status": "completed"
    },
    "tags": []
   },
   "outputs": [
    {
     "data": {
      "image/png": "[encoded data removed]",
      "text/plain": [
       "<Figure size 432x288 with 1 Axes>"
      ]
     },
     "metadata": {
      "needs_background": "light"
     },
     "output_type": "display_data"
    }
   ],
   "source": [
    "ax = sns.barplot(x=\"COVID-19 Deaths\", y=\"Age Group\", data=df)"
   ]
  },
  {
   "cell_type": "code",
   "execution_count": 13,
   "id": "aaed53f2",
   "metadata": {
    "execution": {
     "iopub.execute_input": "2021-10-11T03:42:55.665555Z",
     "iopub.status.busy": "2021-10-11T03:42:55.664986Z",
     "iopub.status.idle": "2021-10-11T03:42:56.592740Z",
     "shell.execute_reply": "2021-10-11T03:42:56.592232Z",
     "shell.execute_reply.started": "2021-10-11T03:41:21.794209Z"
    },
    "papermill": {
     "duration": 0.95809,
     "end_time": "2021-10-11T03:42:56.592923",
     "exception": false,
     "start_time": "2021-10-11T03:42:55.634833",
     "status": "completed"
    },
    "tags": []
   },
   "outputs": [
    {
     "data": {
      "image/png": "[encoded data removed]",
      "text/plain": [
       "<Figure size 432x288 with 1 Axes>"
      ]
     },
     "metadata": {
      "needs_background": "light"
     },
     "output_type": "display_data"
    }
   ],
   "source": [
    "ax = sns.barplot(x=\"COVID-19 Deaths\", y=\"Race and Hispanic Origin Group\", data=df)"
   ]
  },
  {
   "cell_type": "code",
   "execution_count": 14,
   "id": "90b9e687",
   "metadata": {
    "execution": {
     "iopub.execute_input": "2021-10-11T03:42:56.654151Z",
     "iopub.status.busy": "2021-10-11T03:42:56.653173Z",
     "iopub.status.idle": "2021-10-11T03:42:57.525119Z",
     "shell.execute_reply": "2021-10-11T03:42:57.524613Z",
     "shell.execute_reply.started": "2021-10-11T03:41:22.679365Z"
    },
    "papermill": {
     "duration": 0.903842,
     "end_time": "2021-10-11T03:42:57.525269",
     "exception": false,
     "start_time": "2021-10-11T03:42:56.621427",
     "status": "completed"
    },
    "tags": []
   },
   "outputs": [
    {
     "data": {
      "image/png": "[encoded data removed]",
      "text/plain": [
       "<Figure size 432x288 with 1 Axes>"
      ]
     },
     "metadata": {
      "needs_background": "light"
     },
     "output_type": "display_data"
    }
   ],
   "source": [
    "ax = sns.lineplot(x=\"Month\", y=\"COVID-19 Deaths\", data=df)"
   ]
  },
  {
   "cell_type": "code",
   "execution_count": 15,
   "id": "aebbc89e",
   "metadata": {
    "execution": {
     "iopub.execute_input": "2021-10-11T03:42:57.590077Z",
     "iopub.status.busy": "2021-10-11T03:42:57.589419Z",
     "iopub.status.idle": "2021-10-11T03:42:59.302700Z",
     "shell.execute_reply": "2021-10-11T03:42:59.302120Z",
     "shell.execute_reply.started": "2021-10-11T03:41:23.612100Z"
    },
    "papermill": {
     "duration": 1.747436,
     "end_time": "2021-10-11T03:42:59.302837",
     "exception": false,
     "start_time": "2021-10-11T03:42:57.555401",
     "status": "completed"
    },
    "tags": []
   },
   "outputs": [
    {
     "data": {
      "image/png": "[encoded data removed]",
      "text/plain": [
       "<Figure size 432x288 with 1 Axes>"
      ]
     },
     "metadata": {
      "needs_background": "light"
     },
     "output_type": "display_data"
    }
   ],
   "source": [
    "ax = sns.lineplot(x=\"MMWR Week\", y=\"COVID-19 Deaths\", data=df)"
   ]
  },
  {
   "cell_type": "code",
   "execution_count": 16,
   "id": "4f0b7bd0",
   "metadata": {
    "execution": {
     "iopub.execute_input": "2021-10-11T03:42:59.376111Z",
     "iopub.status.busy": "2021-10-11T03:42:59.375201Z",
     "iopub.status.idle": "2021-10-11T03:42:59.425079Z",
     "shell.execute_reply": "2021-10-11T03:42:59.425802Z",
     "shell.execute_reply.started": "2021-10-11T03:41:25.410190Z"
    },
    "papermill": {
     "duration": 0.092724,
     "end_time": "2021-10-11T03:42:59.426045",
     "exception": false,
     "start_time": "2021-10-11T03:42:59.333321",
     "status": "completed"
    },
    "tags": []
   },
   "outputs": [
    {
     "name": "stdout",
     "output_type": "stream",
     "text": [
      "   Month  MMWR Week  COVID-19 Deaths  Start Date_01/01/2020  \\\n",
      "0     12        1.0              0.0                      0   \n",
      "1     12        1.0              0.0                      0   \n",
      "2     12        1.0              0.0                      0   \n",
      "3     12        1.0              0.0                      0   \n",
      "4     12        1.0              0.0                      0   \n",
      "\n",
      "   Start Date_01/01/2021  Start Date_01/03/2021  Start Date_01/05/2020  \\\n",
      "0                      0                      0                      0   \n",
      "1                      0                      0                      0   \n",
      "2                      0                      0                      0   \n",
      "3                      0                      0                      0   \n",
      "4                      0                      0                      0   \n",
      "\n",
      "   Start Date_01/10/2021  Start Date_01/12/2020  Start Date_01/17/2021  ...  \\\n",
      "0                      0                      0                      0  ...   \n",
      "1                      0                      0                      0  ...   \n",
      "2                      0                      0                      0  ...   \n",
      "3                      0                      0                      0  ...   \n",
      "4                      0                      0                      0  ...   \n",
      "\n",
      "   Race and Hispanic Origin Group_Unknown  Age Group_0-4 years  \\\n",
      "0                                       0                    1   \n",
      "1                                       0                    0   \n",
      "2                                       0                    0   \n",
      "3                                       0                    0   \n",
      "4                                       0                    0   \n",
      "\n",
      "   Age Group_18-29 years  Age Group_30-39 years  Age Group_40-49 years  \\\n",
      "0                      0                      0                      0   \n",
      "1                      0                      0                      0   \n",
      "2                      1                      0                      0   \n",
      "3                      0                      1                      0   \n",
      "4                      0                      0                      1   \n",
      "\n",
      "   Age Group_5-17 years  Age Group_50-64 years  Age Group_65-74 years  \\\n",
      "0                     0                      0                      0   \n",
      "1                     1                      0                      0   \n",
      "2                     0                      0                      0   \n",
      "3                     0                      0                      0   \n",
      "4                     0                      0                      0   \n",
      "\n",
      "   Age Group_75-84 years  Age Group_85 years and over  \n",
      "0                      0                            0  \n",
      "1                      0                            0  \n",
      "2                      0                            0  \n",
      "3                      0                            0  \n",
      "4                      0                            0  \n",
      "\n",
      "[5 rows x 109 columns]\n"
     ]
    }
   ],
   "source": [
    "df_dummies = pd.get_dummies(df) # Generating dummy values for each object\n",
    "print(df_dummies.head()) # Viewing first 5 rows of each dummy DataFrame\n",
    "df = df.drop(['Start Date', 'Race and Hispanic Origin Group', 'Age Group'], axis=1) # Dropping object columns"
   ]
  },
  {
   "cell_type": "markdown",
   "id": "2359e1de",
   "metadata": {
    "papermill": {
     "duration": 0.030034,
     "end_time": "2021-10-11T03:42:59.487845",
     "exception": false,
     "start_time": "2021-10-11T03:42:59.457811",
     "status": "completed"
    },
    "tags": []
   },
   "source": [
    "# Running train_test_split to split Training Data into random train and test subsets"
   ]
  },
  {
   "cell_type": "code",
   "execution_count": 17,
   "id": "c1c083a3",
   "metadata": {
    "execution": {
     "iopub.execute_input": "2021-10-11T03:42:59.551740Z",
     "iopub.status.busy": "2021-10-11T03:42:59.551144Z",
     "iopub.status.idle": "2021-10-11T03:42:59.559157Z",
     "shell.execute_reply": "2021-10-11T03:42:59.559580Z",
     "shell.execute_reply.started": "2021-10-11T03:41:25.469240Z"
    },
    "papermill": {
     "duration": 0.041732,
     "end_time": "2021-10-11T03:42:59.559755",
     "exception": false,
     "start_time": "2021-10-11T03:42:59.518023",
     "status": "completed"
    },
    "tags": []
   },
   "outputs": [],
   "source": [
    "X = df.drop('COVID-19 Deaths', axis=1) # Assigning all columns except COVID-19 Deaths to 'X'\n",
    "y = df['COVID-19 Deaths'].values # Assigning only COVID-19 Deaths column to 'y'\n",
    "X_train, X_test, y_train, y_test = train_test_split(X, y, train_size=0.8, shuffle=False, random_state=1)"
   ]
  },
  {
   "cell_type": "markdown",
   "id": "4b38549d",
   "metadata": {
    "papermill": {
     "duration": 0.031011,
     "end_time": "2021-10-11T03:42:59.622959",
     "exception": false,
     "start_time": "2021-10-11T03:42:59.591948",
     "status": "completed"
    },
    "tags": []
   },
   "source": [
    "# Generating Models and Fitting Data to those models"
   ]
  },
  {
   "cell_type": "markdown",
   "id": "957f2756",
   "metadata": {
    "papermill": {
     "duration": 0.030826,
     "end_time": "2021-10-11T03:42:59.685146",
     "exception": false,
     "start_time": "2021-10-11T03:42:59.654320",
     "status": "completed"
    },
    "tags": []
   },
   "source": [
    "Ordinary Least Squares model (Linear Regression)"
   ]
  },
  {
   "cell_type": "code",
   "execution_count": 18,
   "id": "63f5544f",
   "metadata": {
    "execution": {
     "iopub.execute_input": "2021-10-11T03:42:59.750780Z",
     "iopub.status.busy": "2021-10-11T03:42:59.750172Z",
     "iopub.status.idle": "2021-10-11T03:42:59.785581Z",
     "shell.execute_reply": "2021-10-11T03:42:59.786392Z",
     "shell.execute_reply.started": "2021-10-11T03:41:25.481290Z"
    },
    "papermill": {
     "duration": 0.070379,
     "end_time": "2021-10-11T03:42:59.786690",
     "exception": false,
     "start_time": "2021-10-11T03:42:59.716311",
     "status": "completed"
    },
    "tags": []
   },
   "outputs": [
    {
     "name": "stdout",
     "output_type": "stream",
     "text": [
      "-0.007407027596730842\n"
     ]
    }
   ],
   "source": [
    "model_lin = LinearRegression() # Creating Linear Regression model\n",
    "model_lin.fit(X_train, y_train) # Fitting training data to model\n",
    "predictions_lin = model_lin.predict(X_test) # Predicting test data\n",
    "score_lin = r2_score(y_test, predictions_lin) # Scoring predictions against test data\n",
    "print(score_lin) # Display score"
   ]
  },
  {
   "cell_type": "markdown",
   "id": "569b86f5",
   "metadata": {
    "papermill": {
     "duration": 0.053207,
     "end_time": "2021-10-11T03:42:59.900361",
     "exception": false,
     "start_time": "2021-10-11T03:42:59.847154",
     "status": "completed"
    },
    "tags": []
   },
   "source": [
    "Ridge Regression"
   ]
  },
  {
   "cell_type": "code",
   "execution_count": 19,
   "id": "1d0d808a",
   "metadata": {
    "execution": {
     "iopub.execute_input": "2021-10-11T03:42:59.969856Z",
     "iopub.status.busy": "2021-10-11T03:42:59.969192Z",
     "iopub.status.idle": "2021-10-11T03:42:59.980633Z",
     "shell.execute_reply": "2021-10-11T03:42:59.981528Z",
     "shell.execute_reply.started": "2021-10-11T03:41:25.519003Z"
    },
    "papermill": {
     "duration": 0.050273,
     "end_time": "2021-10-11T03:42:59.981812",
     "exception": false,
     "start_time": "2021-10-11T03:42:59.931539",
     "status": "completed"
    },
    "tags": []
   },
   "outputs": [
    {
     "name": "stdout",
     "output_type": "stream",
     "text": [
      "-0.007407031081704041\n"
     ]
    }
   ],
   "source": [
    "model_ridge = Ridge() # Creating Ridge Regression model\n",
    "model_ridge.fit(X_train, y_train) # Fitting training data to model\n",
    "predictions_ridge = model_ridge.predict(X_test) # Predicting test data\n",
    "score_ridge = r2_score(y_test, predictions_ridge) # Scoring predictions against test data\n",
    "print(score_ridge) # Display score"
   ]
  },
  {
   "cell_type": "markdown",
   "id": "9527e035",
   "metadata": {
    "papermill": {
     "duration": 0.056454,
     "end_time": "2021-10-11T03:43:00.100857",
     "exception": false,
     "start_time": "2021-10-11T03:43:00.044403",
     "status": "completed"
    },
    "tags": []
   },
   "source": [
    "Lasso Regression"
   ]
  },
  {
   "cell_type": "code",
   "execution_count": 20,
   "id": "0b6e9d99",
   "metadata": {
    "execution": {
     "iopub.execute_input": "2021-10-11T03:43:00.170622Z",
     "iopub.status.busy": "2021-10-11T03:43:00.169513Z",
     "iopub.status.idle": "2021-10-11T03:43:00.187067Z",
     "shell.execute_reply": "2021-10-11T03:43:00.188712Z",
     "shell.execute_reply.started": "2021-10-11T03:41:25.555963Z"
    },
    "papermill": {
     "duration": 0.05671,
     "end_time": "2021-10-11T03:43:00.189078",
     "exception": false,
     "start_time": "2021-10-11T03:43:00.132368",
     "status": "completed"
    },
    "tags": []
   },
   "outputs": [
    {
     "name": "stdout",
     "output_type": "stream",
     "text": [
      "-0.007536525964022545\n"
     ]
    }
   ],
   "source": [
    "model_lasso = Lasso()  # Creating Lasso Regression model\n",
    "model_lasso.fit(X_train, y_train) # Fitting training data to model\n",
    "predictions_lasso = model_lasso.predict(X_test) # Predicting test data\n",
    "score_lasso = r2_score(y_test, predictions_lasso) # Scoring predictions against test data\n",
    "print(score_lasso) # Display score"
   ]
  },
  {
   "cell_type": "markdown",
   "id": "00af4faf",
   "metadata": {
    "papermill": {
     "duration": 0.056742,
     "end_time": "2021-10-11T03:43:00.308181",
     "exception": false,
     "start_time": "2021-10-11T03:43:00.251439",
     "status": "completed"
    },
    "tags": []
   },
   "source": [
    "Elastic Net Regression"
   ]
  },
  {
   "cell_type": "code",
   "execution_count": 21,
   "id": "04ebfc2a",
   "metadata": {
    "execution": {
     "iopub.execute_input": "2021-10-11T03:43:00.377745Z",
     "iopub.status.busy": "2021-10-11T03:43:00.376590Z",
     "iopub.status.idle": "2021-10-11T03:43:00.389690Z",
     "shell.execute_reply": "2021-10-11T03:43:00.390415Z",
     "shell.execute_reply.started": "2021-10-11T03:41:25.595695Z"
    },
    "papermill": {
     "duration": 0.051362,
     "end_time": "2021-10-11T03:43:00.390633",
     "exception": false,
     "start_time": "2021-10-11T03:43:00.339271",
     "status": "completed"
    },
    "tags": []
   },
   "outputs": [
    {
     "name": "stdout",
     "output_type": "stream",
     "text": [
      "-0.0075376706464851395\n"
     ]
    }
   ],
   "source": [
    "model_elastic = ElasticNet() # Creating Elastic Net Regression model\n",
    "model_elastic.fit(X_train, y_train) # Fitting training data to model\n",
    "predictions_elastic = model_elastic.predict(X_test) # Predicting test data\n",
    "score_elastic = r2_score(y_test, predictions_elastic) # Scoring predictions against test data\n",
    "print(score_elastic) # Display score"
   ]
  },
  {
   "cell_type": "markdown",
   "id": "98557f26",
   "metadata": {
    "papermill": {
     "duration": 0.057516,
     "end_time": "2021-10-11T03:43:00.509752",
     "exception": false,
     "start_time": "2021-10-11T03:43:00.452236",
     "status": "completed"
    },
    "tags": []
   },
   "source": [
    "# Evaluating Models Against Test Data"
   ]
  },
  {
   "cell_type": "code",
   "execution_count": 22,
   "id": "f902ef47",
   "metadata": {
    "execution": {
     "iopub.execute_input": "2021-10-11T03:43:00.580193Z",
     "iopub.status.busy": "2021-10-11T03:43:00.579192Z",
     "iopub.status.idle": "2021-10-11T03:43:00.844293Z",
     "shell.execute_reply": "2021-10-11T03:43:00.844695Z",
     "shell.execute_reply.started": "2021-10-11T03:41:25.632602Z"
    },
    "papermill": {
     "duration": 0.303895,
     "end_time": "2021-10-11T03:43:00.844890",
     "exception": false,
     "start_time": "2021-10-11T03:43:00.540995",
     "status": "completed"
    },
    "tags": []
   },
   "outputs": [
    {
     "name": "stdout",
     "output_type": "stream",
     "text": [
      "                  0\n",
      "count  14573.000000\n",
      "mean      30.941102\n",
      "std        6.094496\n",
      "min       18.919649\n",
      "25%       26.039695\n",
      "50%       31.379730\n",
      "75%       36.719764\n",
      "max       38.499776\n"
     ]
    },
    {
     "data": {
      "text/plain": [
       "<matplotlib.collections.PathCollection at 0x7fb525322450>"
      ]
     },
     "execution_count": 22,
     "metadata": {},
     "output_type": "execute_result"
    },
    {
     "data": {
      "image/png": "[encoded data removed]",
      "text/plain": [
       "<Figure size 432x288 with 1 Axes>"
      ]
     },
     "metadata": {
      "needs_background": "light"
     },
     "output_type": "display_data"
    }
   ],
   "source": [
    "df_lin = pd.DataFrame(predictions_lin) # Creating DataFrame of Ordinary Least Squares (Linear) Regression predictions\n",
    "print(df_lin.describe()) # Display summary statistics for this distribution\n",
    "plt.scatter(y_test, predictions_lin) # Graph distribution of validation scores"
   ]
  },
  {
   "cell_type": "code",
   "execution_count": 23,
   "id": "e1496c8a",
   "metadata": {
    "execution": {
     "iopub.execute_input": "2021-10-11T03:43:00.917343Z",
     "iopub.status.busy": "2021-10-11T03:43:00.916354Z",
     "iopub.status.idle": "2021-10-11T03:43:01.183894Z",
     "shell.execute_reply": "2021-10-11T03:43:01.183002Z",
     "shell.execute_reply.started": "2021-10-11T03:41:25.983492Z"
    },
    "papermill": {
     "duration": 0.306993,
     "end_time": "2021-10-11T03:43:01.184051",
     "exception": false,
     "start_time": "2021-10-11T03:43:00.877058",
     "status": "completed"
    },
    "tags": []
   },
   "outputs": [
    {
     "name": "stdout",
     "output_type": "stream",
     "text": [
      "                  0\n",
      "count  14573.000000\n",
      "mean      30.941096\n",
      "std        6.094432\n",
      "min       18.919769\n",
      "25%       26.039740\n",
      "50%       31.379719\n",
      "75%       36.719698\n",
      "max       38.499690\n"
     ]
    },
    {
     "data": {
      "text/plain": [
       "<matplotlib.collections.PathCollection at 0x7fb52532eb90>"
      ]
     },
     "execution_count": 23,
     "metadata": {},
     "output_type": "execute_result"
    },
    {
     "data": {
      "image/png": "[encoded data removed]",
      "text/plain": [
       "<Figure size 432x288 with 1 Axes>"
      ]
     },
     "metadata": {
      "needs_background": "light"
     },
     "output_type": "display_data"
    }
   ],
   "source": [
    "df_ridge = pd.DataFrame(predictions_ridge) # Creating DataFrame of Ridge Regression predictions\n",
    "print(df_ridge.describe()) # Display summary statistics for this distribution\n",
    "plt.scatter(y_test, predictions_ridge) # Graph distribution of validation scores"
   ]
  },
  {
   "cell_type": "code",
   "execution_count": 24,
   "id": "8131d7ac",
   "metadata": {
    "execution": {
     "iopub.execute_input": "2021-10-11T03:43:01.259365Z",
     "iopub.status.busy": "2021-10-11T03:43:01.258404Z",
     "iopub.status.idle": "2021-10-11T03:43:01.516006Z",
     "shell.execute_reply": "2021-10-11T03:43:01.516459Z",
     "shell.execute_reply.started": "2021-10-11T03:41:26.262650Z"
    },
    "papermill": {
     "duration": 0.298653,
     "end_time": "2021-10-11T03:43:01.516635",
     "exception": false,
     "start_time": "2021-10-11T03:43:01.217982",
     "status": "completed"
    },
    "tags": []
   },
   "outputs": [
    {
     "name": "stdout",
     "output_type": "stream",
     "text": [
      "                  0\n",
      "count  14573.000000\n",
      "mean      30.712434\n",
      "std        3.775356\n",
      "min       23.285747\n",
      "25%       27.690819\n",
      "50%       30.994624\n",
      "75%       34.298428\n",
      "max       35.399696\n"
     ]
    },
    {
     "data": {
      "text/plain": [
       "<matplotlib.collections.PathCollection at 0x7fb5252b7710>"
      ]
     },
     "execution_count": 24,
     "metadata": {},
     "output_type": "execute_result"
    },
    {
     "data": {
      "image/png": "[encoded data removed]",
      "text/plain": [
       "<Figure size 432x288 with 1 Axes>"
      ]
     },
     "metadata": {
      "needs_background": "light"
     },
     "output_type": "display_data"
    }
   ],
   "source": [
    "df_lasso = pd.DataFrame(predictions_lasso) # Creating DataFrame of Lasso Regression predictions\n",
    "print(df_lasso.describe()) # Display summary statistics for this distribution\n",
    "plt.scatter(y_test, predictions_lasso) # Graph distribution of validation scores"
   ]
  },
  {
   "cell_type": "code",
   "execution_count": 25,
   "id": "cc65f513",
   "metadata": {
    "execution": {
     "iopub.execute_input": "2021-10-11T03:43:01.590571Z",
     "iopub.status.busy": "2021-10-11T03:43:01.589968Z",
     "iopub.status.idle": "2021-10-11T03:43:01.845451Z",
     "shell.execute_reply": "2021-10-11T03:43:01.845862Z",
     "shell.execute_reply.started": "2021-10-11T03:41:26.528447Z"
    },
    "papermill": {
     "duration": 0.294533,
     "end_time": "2021-10-11T03:43:01.846056",
     "exception": false,
     "start_time": "2021-10-11T03:43:01.551523",
     "status": "completed"
    },
    "tags": []
   },
   "outputs": [
    {
     "name": "stdout",
     "output_type": "stream",
     "text": [
      "                  0\n",
      "count  14573.000000\n",
      "mean      30.710393\n",
      "std        3.755399\n",
      "min       23.323379\n",
      "25%       27.705042\n",
      "50%       30.991289\n",
      "75%       34.277536\n",
      "max       35.372952\n"
     ]
    },
    {
     "data": {
      "text/plain": [
       "<matplotlib.collections.PathCollection at 0x7fb525241b10>"
      ]
     },
     "execution_count": 25,
     "metadata": {},
     "output_type": "execute_result"
    },
    {
     "data": {
      "image/png": "[encoded data removed]",
      "text/plain": [
       "<Figure size 432x288 with 1 Axes>"
      ]
     },
     "metadata": {
      "needs_background": "light"
     },
     "output_type": "display_data"
    }
   ],
   "source": [
    "df_elastic = pd.DataFrame(predictions_elastic) # Creating DataFrame of Elastic Regression predictions\n",
    "print(df_elastic.describe()) # Display summary statistics for this distribution\n",
    "plt.scatter(y_test, predictions_elastic) # Graph distribution of validation scores"
   ]
  },
  {
   "cell_type": "markdown",
   "id": "89ceb2ce",
   "metadata": {
    "papermill": {
     "duration": 0.036157,
     "end_time": "2021-10-11T03:43:01.918605",
     "exception": false,
     "start_time": "2021-10-11T03:43:01.882448",
     "status": "completed"
    },
    "tags": []
   },
   "source": [
    "# Saving best model as 'submission.csv'"
   ]
  },
  {
   "cell_type": "code",
   "execution_count": 26,
   "id": "a36d014c",
   "metadata": {
    "execution": {
     "iopub.execute_input": "2021-10-11T03:43:01.998981Z",
     "iopub.status.busy": "2021-10-11T03:43:01.998338Z",
     "iopub.status.idle": "2021-10-11T03:43:02.010249Z",
     "shell.execute_reply": "2021-10-11T03:43:02.010949Z",
     "shell.execute_reply.started": "2021-10-11T03:41:26.795388Z"
    },
    "papermill": {
     "duration": 0.052384,
     "end_time": "2021-10-11T03:43:02.011171",
     "exception": false,
     "start_time": "2021-10-11T03:43:01.958787",
     "status": "completed"
    },
    "tags": []
   },
   "outputs": [
    {
     "name": "stdout",
     "output_type": "stream",
     "text": [
      "Your submission was successfully saved\n"
     ]
    }
   ],
   "source": [
    "output = pd.DataFrame({'id': test_df['id'], 'COVID-19 Deaths': predictions_lin[:1152]}) # Creating output DataFrame\n",
    "output.to_csv('submission.csv', index=False) # Saving output DataFrame as CSV\n",
    "print('Your submission was successfully saved') # Asserting submission was successfully saved"
   ]
  }
 ],
 "metadata": {
  "kernelspec": {
   "display_name": "Python 3",
   "language": "python",
   "name": "python3"
  },
  "language_info": {
   "codemirror_mode": {
    "name": "ipython",
    "version": 3
   },
   "file_extension": ".py",
   "mimetype": "text/x-python",
   "name": "python",
   "nbconvert_exporter": "python",
   "pygments_lexer": "ipython3",
   "version": "3.7.10"
  },
  "papermill": {
   "default_parameters": {},
   "duration": 18.7476,
   "end_time": "2021-10-11T03:43:03.295571",
   "environment_variables": {},
   "exception": null,
   "input_path": "__notebook__.ipynb",
   "output_path": "__notebook__.ipynb",
   "parameters": {},
   "start_time": "2021-10-11T03:42:44.547971",
   "version": "2.3.3"
  }
 },
 "nbformat": 4,
 "nbformat_minor": 5
}
